{
 "cells": [
  {
   "cell_type": "code",
   "execution_count": null,
   "id": "06cbf5ec-8274-44cc-819e-9391b93327e5",
   "metadata": {},
   "outputs": [],
   "source": [
    "import pandas as pd\n",
    "import numpy as np\n",
    "import matplotlib.pyplot as pp\n",
    "import matplotlib as mpl\n",
    "import networkx as nx\n",
    "from networkx.algorithms import bipartite\n",
    "\n",
    "\n",
    "%matplotlib widget"
   ]
  },
  {
   "cell_type": "markdown",
   "id": "bee9b2af-5bb3-42a7-b847-798cefa228cb",
   "metadata": {},
   "source": [
    "# Task for Data Analytics Summer Position\n",
    "\n",
    "In order to create our short list of people for interviews, we would like you to complete a short data analytics problem.  \n",
    "\n",
    "\n",
    "Based on the information provided at the website below, please complete the questions below and submit them by end of day Thursday, May 2nd.  Please email Dr. Alim if you have any questions about this task.\n",
    "\n",
    "\n",
    "https://data.calgary.ca/Environment/Corporate-Energy-Consumption/crbp-innf/about_data\n",
    "\n",
    " \n",
    "From the above data, produce a bipartite graph visualization that shows:\n",
    "\n",
    "* Energy type (Energy Description) in one set of nodes\n",
    "* Business entity (Business Unit Desc) in the other set of nodes\n",
    "* Weighted edges that show total amount of each type of energy consumed by each of the business entities (aggregated over the year 2023)\n",
    "* Include a short written description of the data analysis <250 words."
   ]
  },
  {
   "cell_type": "markdown",
   "id": "35689606-6120-41db-bd7c-62c0b29c805b",
   "metadata": {},
   "source": [
    "## Import data and filter to year 2023"
   ]
  },
  {
   "cell_type": "code",
   "execution_count": null,
   "id": "85d0518a-6019-423b-83b5-359bb7103994",
   "metadata": {},
   "outputs": [],
   "source": [
    "all_data = pd.read_csv('Corporate_Energy_Consumption_20240501.csv', low_memory=False)\n",
    "data_2023 = all_data[all_data['Year'] == 2023]\n",
    "\n",
    "print('Columns:')\n",
    "print(' | '.join(data_2023.columns))"
   ]
  },
  {
   "cell_type": "markdown",
   "id": "b542e031-6dc8-49c6-aa8f-7d816a1245c7",
   "metadata": {},
   "source": [
    "## Define Nodes and Edges from Total Consumption (!! PAY ATTENTION TO UNITS !!)"
   ]
  },
  {
   "cell_type": "code",
   "execution_count": null,
   "id": "92fff74e-495e-4c7e-92a3-5914a81726db",
   "metadata": {},
   "outputs": [],
   "source": [
    "kwh2gj = 3.6 * 10**(-3)"
   ]
  },
  {
   "cell_type": "code",
   "execution_count": null,
   "id": "cf18198f-db76-45c6-ae31-c483acc50339",
   "metadata": {},
   "outputs": [],
   "source": [
    "relevant_data = data_2023[['Business Unit Desc', 'Energy Description']] * True\n",
    "\n",
    "energies = data_2023['Total Consumption']\n",
    "energies_converted = np.where(data_2023['Unit'] == 'Kwh', energies, energies / kwh2gj)\n",
    "\n",
    "relevant_data['Total Energy (Kwh)'] = energies_converted\n",
    "\n",
    "#display(relevant_data[data_2023['Unit'] == 'GJ'])\n",
    "#display(data_2023[data_2023['Unit'] == 'GJ'])"
   ]
  },
  {
   "cell_type": "code",
   "execution_count": null,
   "id": "3b1a1b96-23b4-4e87-8f76-a884578d91a3",
   "metadata": {},
   "outputs": [],
   "source": [
    "relevant_df = relevant_data.groupby(['Business Unit Desc', 'Energy Description'], as_index=False, sort=False).sum()\n",
    "edges = list(relevant_df.itertuples(index=False,name=None)) \n",
    "energy_totals = relevant_df.groupby(\n",
    "    'Energy Description', as_index=False\n",
    ").sum().sort_values(by='Total Energy (Kwh)')\n",
    "business_totals = relevant_df.groupby(\n",
    "    'Business Unit Desc', as_index=False\n",
    ").sum().sort_values(by='Total Energy (Kwh)')"
   ]
  },
  {
   "cell_type": "markdown",
   "id": "2dd0cb3c-9a65-4ffa-8dd2-6f9369d0ef30",
   "metadata": {},
   "source": [
    "## Make Graph"
   ]
  },
  {
   "cell_type": "code",
   "execution_count": null,
   "id": "57aca1a7-8aca-4fd4-9c01-2996c66a1b7b",
   "metadata": {},
   "outputs": [],
   "source": [
    "energy_types = energy_totals['Energy Description'].values\n",
    "business_units = business_totals['Business Unit Desc'].values\n",
    "\n",
    "print('Energy Types: ', ' | '.join(energy_types))\n",
    "print('Business Units: ', ' | '.join(business_units))\n",
    "print(set(data_2023['Unit']))"
   ]
  },
  {
   "cell_type": "code",
   "execution_count": null,
   "id": "c5a7ff27-bafa-405a-a223-d35938e2d676",
   "metadata": {},
   "outputs": [],
   "source": [
    "B = nx.Graph()\n",
    "B.add_nodes_from(energy_types, bipartite=0)\n",
    "B.add_nodes_from(business_units, bipartite=1)\n",
    "\n",
    "B.add_weighted_edges_from(edges)\n",
    "\n",
    "energy_nodes = B.subgraph(energy_types)\n",
    "business_nodes = B.subgraph(business_units)"
   ]
  },
  {
   "cell_type": "markdown",
   "id": "235280ae-0650-4ff1-81b5-08960f64dfb5",
   "metadata": {},
   "source": [
    "## Node sizes based on energy consumption/delivery"
   ]
  },
  {
   "cell_type": "code",
   "execution_count": null,
   "id": "c032cd71-1106-4d0b-ab64-d1055e83213b",
   "metadata": {},
   "outputs": [],
   "source": [
    "def normalizer(from_arr, to_vmin, to_vmax):\n",
    "    from_vmin = min(from_arr)\n",
    "    from_vmax = max(from_arr)\n",
    "    \n",
    "    def normalize(x):\n",
    "        m = (to_vmax - to_vmin) / (from_vmax - from_vmin)\n",
    "        c = to_vmax - m * from_vmax\n",
    "        \n",
    "        return m * x + c\n",
    "    return normalize"
   ]
  },
  {
   "cell_type": "markdown",
   "id": "c589978f-ba93-43e9-9f11-ae02b97ccf77",
   "metadata": {},
   "source": [
    "### Energy source node size"
   ]
  },
  {
   "cell_type": "code",
   "execution_count": null,
   "id": "11d5b272-bf93-42ff-b866-cf294114e4a6",
   "metadata": {},
   "outputs": [],
   "source": [
    "\n",
    "\n",
    "normalize = normalizer([0, energy_totals['Total Energy (Kwh)'].values.max()], 0, 1600)\n",
    "energy_sizes_dict = dict(\n",
    "    (source, energy) for i, source, energy in energy_totals.itertuples()\n",
    ")\n",
    "energy_size_areas = [normalize(energy_sizes_dict[key]) for key in energy_nodes]\n",
    "\n"
   ]
  },
  {
   "cell_type": "markdown",
   "id": "c0d4b2a7-4f63-4ce0-a4c7-e0e13dd33f91",
   "metadata": {},
   "source": [
    "### Business node size"
   ]
  },
  {
   "cell_type": "code",
   "execution_count": null,
   "id": "b5e8ff95-0fb6-40a2-92e7-b97f7e20743a",
   "metadata": {},
   "outputs": [],
   "source": [
    "\n",
    "\n",
    "normalize = normalizer([0, business_totals['Total Energy (Kwh)'].values.max()], 0, 800)\n",
    "business_sizes_dict = dict(\n",
    "    (source, energy) for i, source, energy in business_totals.itertuples()\n",
    ")\n",
    "business_size_areas = [normalize(business_sizes_dict[key]) for key in business_nodes]\n",
    "\n"
   ]
  },
  {
   "cell_type": "markdown",
   "id": "6a597837-b4ed-4b83-a048-d18651f12f3d",
   "metadata": {},
   "source": [
    "## Defining positions of nodes for visualization"
   ]
  },
  {
   "cell_type": "code",
   "execution_count": null,
   "id": "8e2a5628-55c3-4ebb-be5d-ce060cd9692b",
   "metadata": {},
   "outputs": [],
   "source": [
    "\n",
    "height = 50\n",
    "y_energy = np.linspace(0, height, len(energy_types))\n",
    "y_business = np.linspace(0, height, len(business_units))\n",
    "\n",
    "pos_left = dict(\n",
    "    (node, np.array( (0, y_energy[i]) )) for i, node in enumerate(energy_types)\n",
    ")\n",
    "pos_right = dict(\n",
    "    (node, np.array((1, y_business[i]))) for i, node in enumerate(business_units)\n",
    ")\n",
    "\n",
    "\n",
    "\n",
    "\n",
    "pos=dict()\n",
    "pos.update(\n",
    "    pos_left\n",
    ")\n",
    "pos.update(\n",
    "    pos_right\n",
    ")\n"
   ]
  },
  {
   "cell_type": "markdown",
   "id": "d68859b3-320f-4563-a7ff-7c4f4bdabc83",
   "metadata": {},
   "source": [
    "## Visualizing the bipartite graph"
   ]
  },
  {
   "cell_type": "code",
   "execution_count": null,
   "id": "c538c890-1d2f-4c35-9d72-e13455037302",
   "metadata": {},
   "outputs": [],
   "source": [
    "fig = pp.figure()\n",
    "gs = mpl.gridspec.GridSpec(\n",
    "    1, 2, width_ratios=[20, 1], wspace=0.01, left= 0.01, right=0.93, top=0.99, bottom=0.01\n",
    ")\n",
    "\n",
    "ax = fig.add_subplot(gs[0])\n",
    "cax = fig.add_subplot(gs[1])\n",
    "\n",
    "\n",
    "cmap = mpl.cm.viridis_r\n",
    "\n",
    "fig.set_size_inches((8.5, 6.5))\n",
    "edge_labels = {\n",
    "    (node1, node2) : weight['weight'] for node1, node2, weight in B.edges(data=True)\n",
    "}\n",
    "\n",
    "\n",
    "\n",
    "label_pos_left = dict(\n",
    "    (label, xy - [0.1, 0]) for label, xy in pos_left.items()\n",
    ")\n",
    "label_pos_right = dict(\n",
    "    (label, xy + [0.1, 0]) for label, xy in pos_right.items()\n",
    ")\n",
    "\n",
    "# Nodes first\n",
    "color='red'\n",
    "nx.draw_networkx_nodes(\n",
    "    energy_nodes, pos=pos, ax=ax, node_size=energy_size_areas, node_color=color, edgecolors='k')\n",
    "nx.draw_networkx_nodes(business_nodes, pos=pos, ax=ax, node_size=business_size_areas, node_color=color, edgecolors='k')\n",
    "nx.draw_networkx_labels(energy_nodes, pos=label_pos_left, horizontalalignment='right', ax=ax)\n",
    "nx.draw_networkx_labels(business_nodes, pos=label_pos_right, horizontalalignment='left', ax=ax)\n",
    "\n",
    "# Edges\n",
    "\n",
    "edge_values = [dat['weight'] for _,_, dat in B.edges(data=True)]\n",
    "edge_weights = np.log10(edge_values)\n",
    "\n",
    "nx.draw_networkx_edges(\n",
    "    B, pos=pos, edge_color=edge_weights,\n",
    "    edge_cmap = cmap,\n",
    "    width=edge_weights/3,\n",
    "    ax=ax\n",
    ")\n",
    "\n",
    "norm = mpl.colors.LogNorm(\n",
    "    vmin=min(edge_values), vmax=max(edge_values)\n",
    ")\n",
    "\n",
    "fig.colorbar(mpl.cm.ScalarMappable(norm=norm, cmap=cmap),\n",
    "             cax=cax, orientation='vertical', label='Energy (Kwh)')\n",
    "#_ = nx.draw_networkx_edge_labels(B, ax=ax, pos=pos, edge_labels=edge_labels, font_size=5)\n",
    "\n",
    "ax.set_xlim(-0.6, 2.0)\n"
   ]
  },
  {
   "cell_type": "code",
   "execution_count": null,
   "id": "13ce1a08-056c-47c6-a895-40a4f8920738",
   "metadata": {},
   "outputs": [],
   "source": [
    "fig.savefig('graph.svg')\n",
    "fig.savefig('graph.pdf')"
   ]
  },
  {
   "cell_type": "markdown",
   "id": "a01986ea-dadd-435f-ae95-9bdb22beab90",
   "metadata": {},
   "source": [
    "## Table summary"
   ]
  },
  {
   "cell_type": "code",
   "execution_count": null,
   "id": "3a3e8295-25a1-438f-9654-d08aa7c118e1",
   "metadata": {},
   "outputs": [],
   "source": [
    "pd.options.display.precision = 3\n",
    "\n",
    "summaries = []\n",
    "for totals in (energy_totals, business_totals):\n",
    "    df = totals * True\n",
    "    df['Total Energy (Kwh)'] *= 10**(-6)\n",
    "    df.rename(columns = {'Total Energy (Kwh)':'Total Energy (Gwh)'}, inplace=True)\n",
    "    df['Percentage'] = 100 * df['Total Energy (Gwh)'] / df['Total Energy (Gwh)'].sum() \n",
    "    display(df)\n",
    "    summaries.append(df)\n",
    "\n",
    "#display(business_totals)"
   ]
  },
  {
   "cell_type": "code",
   "execution_count": null,
   "id": "52437d4a-ce25-4cc2-926d-48a1b461e11a",
   "metadata": {},
   "outputs": [],
   "source": [
    "display(summaries[0].loc[1:].sum())\n",
    "display(summaries[1].loc[5:].sum())"
   ]
  },
  {
   "cell_type": "code",
   "execution_count": null,
   "id": "2ee61079-725b-45e4-a634-dac342c39578",
   "metadata": {},
   "outputs": [],
   "source": [
    "f, a = pp.subplots()\n",
    "a.plot(np.log10(sorted(edge_values)))"
   ]
  },
  {
   "cell_type": "code",
   "execution_count": null,
   "id": "18e2dcac-810c-4fc4-8b64-d78a172196d7",
   "metadata": {},
   "outputs": [],
   "source": [
    "set(all_data[all_data['Business Unit Desc'] == 'Calgary Housing']['Energy Description'])"
   ]
  }
 ],
 "metadata": {
  "kernelspec": {
   "display_name": "Python 3 (ipykernel)",
   "language": "python",
   "name": "python3"
  },
  "language_info": {
   "codemirror_mode": {
    "name": "ipython",
    "version": 3
   },
   "file_extension": ".py",
   "mimetype": "text/x-python",
   "name": "python",
   "nbconvert_exporter": "python",
   "pygments_lexer": "ipython3",
   "version": "3.9.16"
  }
 },
 "nbformat": 4,
 "nbformat_minor": 5
}
